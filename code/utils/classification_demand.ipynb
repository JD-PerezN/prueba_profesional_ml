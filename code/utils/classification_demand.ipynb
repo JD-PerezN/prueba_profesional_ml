{
 "cells": [
  {
   "cell_type": "markdown",
   "metadata": {},
   "source": [
    "# Exercise 2 - Classification demand model "
   ]
  },
  {
   "cell_type": "markdown",
   "metadata": {},
   "source": [
    "A classification model is a machine learning (ML) technique used to categorize data into different classes."
   ]
  },
  {
   "cell_type": "markdown",
   "metadata": {},
   "source": [
    "## Import libraries"
   ]
  },
  {
   "cell_type": "code",
   "execution_count": 1,
   "metadata": {},
   "outputs": [],
   "source": [
    "import pandas as pd\n",
    "import numpy as np\n",
    "import matplotlib.pyplot as plt\n",
    "import seaborn as sns\n",
    "import os\n",
    "\n",
    "from sklearn.preprocessing import StandardScaler, LabelEncoder\n",
    "from sklearn.model_selection import train_test_split, cross_val_score, RandomizedSearchCV\n",
    "from sklearn.decomposition import PCA\n",
    "from sklearn.impute import KNNImputer\n",
    "from sklearn.ensemble import RandomForestClassifier, RandomForestRegressor\n",
    "from sklearn.svm import SVC, SVR\n",
    "from sklearn.metrics import accuracy_score, f1_score, mean_squared_error, r2_score, confusion_matrix, mean_absolute_error\n",
    "\n",
    "from imblearn.over_sampling import SMOTE\n",
    "from xgboost import XGBClassifier, XGBRegressor\n",
    "from dotenv import load_dotenv"
   ]
  },
  {
   "cell_type": "code",
   "execution_count": 2,
   "metadata": {},
   "outputs": [],
   "source": [
    "_ = load_dotenv()"
   ]
  },
  {
   "cell_type": "markdown",
   "metadata": {},
   "source": [
    "## Load data from csv file"
   ]
  },
  {
   "cell_type": "code",
   "execution_count": 3,
   "metadata": {},
   "outputs": [
    {
     "data": {
      "text/html": [
       "<div>\n",
       "<style scoped>\n",
       "    .dataframe tbody tr th:only-of-type {\n",
       "        vertical-align: middle;\n",
       "    }\n",
       "\n",
       "    .dataframe tbody tr th {\n",
       "        vertical-align: top;\n",
       "    }\n",
       "\n",
       "    .dataframe thead th {\n",
       "        text-align: right;\n",
       "    }\n",
       "</style>\n",
       "<table border=\"1\" class=\"dataframe\">\n",
       "  <thead>\n",
       "    <tr style=\"text-align: right;\">\n",
       "      <th></th>\n",
       "      <th>autoID</th>\n",
       "      <th>SeniorCity</th>\n",
       "      <th>Partner</th>\n",
       "      <th>Dependents</th>\n",
       "      <th>Service1</th>\n",
       "      <th>Service2</th>\n",
       "      <th>Security</th>\n",
       "      <th>OnlineBackup</th>\n",
       "      <th>DeviceProtection</th>\n",
       "      <th>TechSupport</th>\n",
       "      <th>Contract</th>\n",
       "      <th>PaperlessBilling</th>\n",
       "      <th>PaymentMethod</th>\n",
       "      <th>Charges</th>\n",
       "      <th>Demand</th>\n",
       "      <th>Class</th>\n",
       "    </tr>\n",
       "  </thead>\n",
       "  <tbody>\n",
       "    <tr>\n",
       "      <th>0</th>\n",
       "      <td>7590-VHVEG</td>\n",
       "      <td>0</td>\n",
       "      <td>Yes</td>\n",
       "      <td>No</td>\n",
       "      <td>No</td>\n",
       "      <td>No phone service</td>\n",
       "      <td>No</td>\n",
       "      <td>Yes</td>\n",
       "      <td>No</td>\n",
       "      <td>No</td>\n",
       "      <td>Month-to-month</td>\n",
       "      <td>Yes</td>\n",
       "      <td>Electronic check</td>\n",
       "      <td>29.85</td>\n",
       "      <td>29.85</td>\n",
       "      <td>Alpha</td>\n",
       "    </tr>\n",
       "    <tr>\n",
       "      <th>1</th>\n",
       "      <td>5575-GNVDE</td>\n",
       "      <td>0</td>\n",
       "      <td>No</td>\n",
       "      <td>No</td>\n",
       "      <td>Yes</td>\n",
       "      <td>No</td>\n",
       "      <td>Yes</td>\n",
       "      <td>No</td>\n",
       "      <td>Yes</td>\n",
       "      <td>No</td>\n",
       "      <td>One year</td>\n",
       "      <td>No</td>\n",
       "      <td>Mailed check</td>\n",
       "      <td>56.95</td>\n",
       "      <td>1889.5</td>\n",
       "      <td>Alpha</td>\n",
       "    </tr>\n",
       "    <tr>\n",
       "      <th>2</th>\n",
       "      <td>3668-QPYBK</td>\n",
       "      <td>0</td>\n",
       "      <td>No</td>\n",
       "      <td>No</td>\n",
       "      <td>Yes</td>\n",
       "      <td>No</td>\n",
       "      <td>Yes</td>\n",
       "      <td>Yes</td>\n",
       "      <td>No</td>\n",
       "      <td>No</td>\n",
       "      <td>Month-to-month</td>\n",
       "      <td>Yes</td>\n",
       "      <td>Mailed check</td>\n",
       "      <td>53.85</td>\n",
       "      <td>108.15</td>\n",
       "      <td>Betha</td>\n",
       "    </tr>\n",
       "    <tr>\n",
       "      <th>3</th>\n",
       "      <td>7795-CFOCW</td>\n",
       "      <td>0</td>\n",
       "      <td>No</td>\n",
       "      <td>No</td>\n",
       "      <td>No</td>\n",
       "      <td>No phone service</td>\n",
       "      <td>Yes</td>\n",
       "      <td>No</td>\n",
       "      <td>Yes</td>\n",
       "      <td>Yes</td>\n",
       "      <td>One year</td>\n",
       "      <td>No</td>\n",
       "      <td>Bank transfer (automatic)</td>\n",
       "      <td>42.30</td>\n",
       "      <td>1840.75</td>\n",
       "      <td>Alpha</td>\n",
       "    </tr>\n",
       "    <tr>\n",
       "      <th>4</th>\n",
       "      <td>9237-HQITU</td>\n",
       "      <td>0</td>\n",
       "      <td>No</td>\n",
       "      <td>No</td>\n",
       "      <td>Yes</td>\n",
       "      <td>No</td>\n",
       "      <td>No</td>\n",
       "      <td>No</td>\n",
       "      <td>No</td>\n",
       "      <td>No</td>\n",
       "      <td>Month-to-month</td>\n",
       "      <td>Yes</td>\n",
       "      <td>Electronic check</td>\n",
       "      <td>70.70</td>\n",
       "      <td>151.65</td>\n",
       "      <td>Betha</td>\n",
       "    </tr>\n",
       "  </tbody>\n",
       "</table>\n",
       "</div>"
      ],
      "text/plain": [
       "       autoID  SeniorCity Partner Dependents Service1          Service2  \\\n",
       "0  7590-VHVEG           0     Yes         No       No  No phone service   \n",
       "1  5575-GNVDE           0      No         No      Yes                No   \n",
       "2  3668-QPYBK           0      No         No      Yes                No   \n",
       "3  7795-CFOCW           0      No         No       No  No phone service   \n",
       "4  9237-HQITU           0      No         No      Yes                No   \n",
       "\n",
       "  Security OnlineBackup DeviceProtection TechSupport        Contract  \\\n",
       "0       No          Yes               No          No  Month-to-month   \n",
       "1      Yes           No              Yes          No        One year   \n",
       "2      Yes          Yes               No          No  Month-to-month   \n",
       "3      Yes           No              Yes         Yes        One year   \n",
       "4       No           No               No          No  Month-to-month   \n",
       "\n",
       "  PaperlessBilling              PaymentMethod  Charges   Demand  Class  \n",
       "0              Yes           Electronic check    29.85    29.85  Alpha  \n",
       "1               No               Mailed check    56.95   1889.5  Alpha  \n",
       "2              Yes               Mailed check    53.85   108.15  Betha  \n",
       "3               No  Bank transfer (automatic)    42.30  1840.75  Alpha  \n",
       "4              Yes           Electronic check    70.70   151.65  Betha  "
      ]
     },
     "execution_count": 3,
     "metadata": {},
     "output_type": "execute_result"
    }
   ],
   "source": [
    "path = os.getenv(\"CLASSIFICATION_PATH\")\n",
    "\n",
    "data = pd.read_csv(path)\n",
    "\n",
    "data.head()"
   ]
  },
  {
   "cell_type": "markdown",
   "metadata": {},
   "source": [
    "### Dataset description"
   ]
  },
  {
   "cell_type": "markdown",
   "metadata": {},
   "source": [
    "* autoID --> Unique identifier\n",
    "\n",
    "* SeniorCity --> Bool (0 o 1) whether the person lives in a senior city\n",
    "\n",
    "* Partner, Dependents, Service1, Service2, Security, OnlineBackup, DeviceProtection, TechSupport, Contract, PaperlessBilling, PaymentMethod --> Categorical variables related to the contracted services and client characteristics.\n",
    "\n",
    "* Charges --> Service cost (continuous variable).\n",
    "\n",
    "* Demand --> Continuous target label (Classification interest variable).\n",
    "\n",
    "* Class --> discrete target label (categories: Alpha, Betha)."
   ]
  },
  {
   "cell_type": "code",
   "execution_count": 4,
   "metadata": {},
   "outputs": [
    {
     "data": {
      "text/plain": [
       "SeniorCity            int64\n",
       "Partner              object\n",
       "Dependents           object\n",
       "Service1             object\n",
       "Service2             object\n",
       "Security             object\n",
       "OnlineBackup         object\n",
       "DeviceProtection     object\n",
       "TechSupport          object\n",
       "Contract             object\n",
       "PaperlessBilling     object\n",
       "PaymentMethod        object\n",
       "Charges             float64\n",
       "Demand               object\n",
       "Class                object\n",
       "dtype: object"
      ]
     },
     "execution_count": 4,
     "metadata": {},
     "output_type": "execute_result"
    }
   ],
   "source": [
    "data = data.drop(\"autoID\", axis=1)\n",
    "\n",
    "data.dtypes"
   ]
  },
  {
   "cell_type": "markdown",
   "metadata": {},
   "source": [
    "Demand column is an object type, not a number type (float)"
   ]
  },
  {
   "cell_type": "code",
   "execution_count": 5,
   "metadata": {},
   "outputs": [
    {
     "name": "stdout",
     "output_type": "stream",
     "text": [
      "SeniorCity          0\n",
      "Partner             0\n",
      "Dependents          0\n",
      "Service1            0\n",
      "Service2            0\n",
      "Security            0\n",
      "OnlineBackup        0\n",
      "DeviceProtection    0\n",
      "TechSupport         0\n",
      "Contract            0\n",
      "PaperlessBilling    0\n",
      "PaymentMethod       0\n",
      "Charges             0\n",
      "Demand              0\n",
      "Class               0\n",
      "dtype: int64\n"
     ]
    }
   ],
   "source": [
    "print(data.isnull().sum())"
   ]
  },
  {
   "cell_type": "markdown",
   "metadata": {},
   "source": [
    "Null values are not found in the column... We need to approach this situation with a replace"
   ]
  },
  {
   "cell_type": "code",
   "execution_count": 6,
   "metadata": {},
   "outputs": [],
   "source": [
    "data[\"Demand\"] = data[\"Demand\"].replace(\" \", 0)\n",
    "\n",
    "data[\"Demand\"] = data[\"Demand\"].astype(float)"
   ]
  },
  {
   "cell_type": "code",
   "execution_count": 7,
   "metadata": {},
   "outputs": [
    {
     "data": {
      "text/plain": [
       "SeniorCity            int64\n",
       "Partner              object\n",
       "Dependents           object\n",
       "Service1             object\n",
       "Service2             object\n",
       "Security             object\n",
       "OnlineBackup         object\n",
       "DeviceProtection     object\n",
       "TechSupport          object\n",
       "Contract             object\n",
       "PaperlessBilling     object\n",
       "PaymentMethod        object\n",
       "Charges             float64\n",
       "Demand              float64\n",
       "Class                object\n",
       "dtype: object"
      ]
     },
     "execution_count": 7,
     "metadata": {},
     "output_type": "execute_result"
    }
   ],
   "source": [
    "data.dtypes"
   ]
  },
  {
   "cell_type": "markdown",
   "metadata": {},
   "source": [
    "Once identified whitespaces in column, they are replaced by 0 "
   ]
  },
  {
   "cell_type": "code",
   "execution_count": 8,
   "metadata": {},
   "outputs": [
    {
     "name": "stdout",
     "output_type": "stream",
     "text": [
      "<class 'pandas.core.frame.DataFrame'>\n",
      "RangeIndex: 7043 entries, 0 to 7042\n",
      "Data columns (total 15 columns):\n",
      " #   Column            Non-Null Count  Dtype  \n",
      "---  ------            --------------  -----  \n",
      " 0   SeniorCity        7043 non-null   int64  \n",
      " 1   Partner           7043 non-null   object \n",
      " 2   Dependents        7043 non-null   object \n",
      " 3   Service1          7043 non-null   object \n",
      " 4   Service2          7043 non-null   object \n",
      " 5   Security          7043 non-null   object \n",
      " 6   OnlineBackup      7043 non-null   object \n",
      " 7   DeviceProtection  7043 non-null   object \n",
      " 8   TechSupport       7043 non-null   object \n",
      " 9   Contract          7043 non-null   object \n",
      " 10  PaperlessBilling  7043 non-null   object \n",
      " 11  PaymentMethod     7043 non-null   object \n",
      " 12  Charges           7043 non-null   float64\n",
      " 13  Demand            7043 non-null   float64\n",
      " 14  Class             7043 non-null   object \n",
      "dtypes: float64(2), int64(1), object(12)\n",
      "memory usage: 825.5+ KB\n",
      "None\n",
      "        SeniorCity      Charges       Demand\n",
      "count  7043.000000  7043.000000  7043.000000\n",
      "mean      0.162147    64.761692  2279.734304\n",
      "std       0.368612    30.090047  2266.794470\n",
      "min       0.000000    18.250000     0.000000\n",
      "25%       0.000000    35.500000   398.550000\n",
      "50%       0.000000    70.350000  1394.550000\n",
      "75%       0.000000    89.850000  3786.600000\n",
      "max       1.000000   118.750000  8684.800000\n"
     ]
    }
   ],
   "source": [
    "print(data.info())\n",
    "print(data.describe())"
   ]
  },
  {
   "cell_type": "markdown",
   "metadata": {},
   "source": [
    "### Descriptive analysis"
   ]
  },
  {
   "cell_type": "markdown",
   "metadata": {},
   "source": [
    "#### Categorical variables"
   ]
  },
  {
   "cell_type": "markdown",
   "metadata": {},
   "source": [
    "* Partner\n",
    "* Dependents\n",
    "* Service1\n",
    "* Service2\n",
    "* Security\n",
    "* OnlineBackup\n",
    "* DeviceProtection\n",
    "* TechSupport\n",
    "* Contract\n",
    "* PaperlessBilling\n",
    "* PaymentMethod\n",
    "* Class\n",
    "\n",
    "These variables have values ​​such as 'Yes', 'No', or specific method names"
   ]
  },
  {
   "cell_type": "markdown",
   "metadata": {},
   "source": [
    "#### Continuous variables"
   ]
  },
  {
   "cell_type": "markdown",
   "metadata": {},
   "source": [
    "* SeniorCity --> Bool variable (0 or 1).\n",
    "* Charges and Demand --> Numerical continuous values"
   ]
  },
  {
   "cell_type": "code",
   "execution_count": 9,
   "metadata": {},
   "outputs": [
    {
     "name": "stdout",
     "output_type": "stream",
     "text": [
      "Categorical variables: Index(['Partner', 'Dependents', 'Service1', 'Service2', 'Security',\n",
      "       'OnlineBackup', 'DeviceProtection', 'TechSupport', 'Contract',\n",
      "       'PaperlessBilling', 'PaymentMethod', 'Class'],\n",
      "      dtype='object')\n",
      "\n",
      "Partner's distribution:\n",
      "Partner\n",
      "No     0.516967\n",
      "Yes    0.483033\n",
      "Name: proportion, dtype: float64\n",
      "\n",
      "Dependents's distribution:\n",
      "Dependents\n",
      "No     0.700412\n",
      "Yes    0.299588\n",
      "Name: proportion, dtype: float64\n",
      "\n",
      "Service1's distribution:\n",
      "Service1\n",
      "Yes    0.903166\n",
      "No     0.096834\n",
      "Name: proportion, dtype: float64\n",
      "\n",
      "Service2's distribution:\n",
      "Service2\n",
      "No                  0.481329\n",
      "Yes                 0.421837\n",
      "No phone service    0.096834\n",
      "Name: proportion, dtype: float64\n",
      "\n",
      "Security's distribution:\n",
      "Security\n",
      "No                     0.496663\n",
      "Yes                    0.286668\n",
      "No internet service    0.216669\n",
      "Name: proportion, dtype: float64\n",
      "\n",
      "OnlineBackup's distribution:\n",
      "OnlineBackup\n",
      "No                     0.438450\n",
      "Yes                    0.344881\n",
      "No internet service    0.216669\n",
      "Name: proportion, dtype: float64\n",
      "\n",
      "DeviceProtection's distribution:\n",
      "DeviceProtection\n",
      "No                     0.439443\n",
      "Yes                    0.343888\n",
      "No internet service    0.216669\n",
      "Name: proportion, dtype: float64\n",
      "\n",
      "TechSupport's distribution:\n",
      "TechSupport\n",
      "No                     0.493114\n",
      "Yes                    0.290217\n",
      "No internet service    0.216669\n",
      "Name: proportion, dtype: float64\n",
      "\n",
      "Contract's distribution:\n",
      "Contract\n",
      "Month-to-month    0.550192\n",
      "Two year          0.240664\n",
      "One year          0.209144\n",
      "Name: proportion, dtype: float64\n",
      "\n",
      "PaperlessBilling's distribution:\n",
      "PaperlessBilling\n",
      "Yes    0.592219\n",
      "No     0.407781\n",
      "Name: proportion, dtype: float64\n",
      "\n",
      "PaymentMethod's distribution:\n",
      "PaymentMethod\n",
      "Electronic check             0.335794\n",
      "Mailed check                 0.228880\n",
      "Bank transfer (automatic)    0.219225\n",
      "Credit card (automatic)      0.216101\n",
      "Name: proportion, dtype: float64\n",
      "\n",
      "Class's distribution:\n",
      "Class\n",
      "Alpha    0.73463\n",
      "Betha    0.26537\n",
      "Name: proportion, dtype: float64\n"
     ]
    }
   ],
   "source": [
    "cat_vars = data.select_dtypes(include=['object']).columns\n",
    "print(\"Categorical variables:\", cat_vars)\n",
    "for var in cat_vars:\n",
    "    print(f\"\\n{var}'s distribution:\")\n",
    "    print(data[var].value_counts(normalize=True))"
   ]
  },
  {
   "cell_type": "code",
   "execution_count": 10,
   "metadata": {},
   "outputs": [
    {
     "name": "stdout",
     "output_type": "stream",
     "text": [
      "Numerical variables: Index(['SeniorCity', 'Charges', 'Demand'], dtype='object')\n"
     ]
    }
   ],
   "source": [
    "num_vars = data.select_dtypes(include=['int64', 'float64']).columns\n",
    "print(\"Numerical variables:\", num_vars)"
   ]
  },
  {
   "cell_type": "markdown",
   "metadata": {},
   "source": [
    "## Exploratory Data Analysis (EDA)"
   ]
  },
  {
   "cell_type": "markdown",
   "metadata": {},
   "source": [
    "### Correlation analysis"
   ]
  },
  {
   "cell_type": "code",
   "execution_count": 11,
   "metadata": {},
   "outputs": [
    {
     "data": {
      "image/png": "[encoded data removed]",
      "text/plain": [
       "<Figure size 1200x1000 with 2 Axes>"
      ]
     },
     "metadata": {},
     "output_type": "display_data"
    }
   ],
   "source": [
    "plt.figure(figsize=(12, 10))\n",
    "sns.heatmap(data[num_vars].corr(), annot=True, cmap='coolwarm')\n",
    "plt.title('Correlations heat map')\n",
    "plt.show()"
   ]
  },
  {
   "cell_type": "markdown",
   "metadata": {},
   "source": [
    "Charges and Demand --> They have a significant positive correlation (0.65). This indicates that Charges are related to Demand\n",
    "\n",
    "SeniorCity --> It shows no correlation with Charges or Demand (this column will be dropped from data and from numerical variables)"
   ]
  },
  {
   "cell_type": "code",
   "execution_count": 12,
   "metadata": {},
   "outputs": [
    {
     "name": "stdout",
     "output_type": "stream",
     "text": [
      "  Partner Dependents Service1          Service2 Security OnlineBackup  \\\n",
      "0     Yes         No       No  No phone service       No          Yes   \n",
      "1      No         No      Yes                No      Yes           No   \n",
      "2      No         No      Yes                No      Yes          Yes   \n",
      "3      No         No       No  No phone service      Yes           No   \n",
      "4      No         No      Yes                No       No           No   \n",
      "\n",
      "  DeviceProtection TechSupport        Contract PaperlessBilling  \\\n",
      "0               No          No  Month-to-month              Yes   \n",
      "1              Yes          No        One year               No   \n",
      "2               No          No  Month-to-month              Yes   \n",
      "3              Yes         Yes        One year               No   \n",
      "4               No          No  Month-to-month              Yes   \n",
      "\n",
      "               PaymentMethod  Charges   Demand  Class  \n",
      "0           Electronic check    29.85    29.85  Alpha  \n",
      "1               Mailed check    56.95  1889.50  Alpha  \n",
      "2               Mailed check    53.85   108.15  Betha  \n",
      "3  Bank transfer (automatic)    42.30  1840.75  Alpha  \n",
      "4           Electronic check    70.70   151.65  Betha  \n",
      "Index(['Charges'], dtype='object')\n"
     ]
    }
   ],
   "source": [
    "data = data.drop(\"SeniorCity\", axis=1)\n",
    "num_vars = num_vars.drop([\"SeniorCity\", \"Demand\"])\n",
    "\n",
    "print(data.head())\n",
    "print(num_vars)"
   ]
  },
  {
   "cell_type": "code",
   "execution_count": 13,
   "metadata": {},
   "outputs": [
    {
     "data": {
      "image/png": "[encoded data removed]",
      "text/plain": [
       "<Figure size 1000x600 with 1 Axes>"
      ]
     },
     "metadata": {},
     "output_type": "display_data"
    }
   ],
   "source": [
    "plt.figure(figsize=(10, 6))\n",
    "sns.set_style(\"whitegrid\")\n",
    "sns.histplot(data['Demand'], bins=100, color=\"skyblue\", edgecolor=\"black\", kde=True)\n",
    "plt.xlabel(\"Demand\")\n",
    "plt.ylabel(\"Frequency\")\n",
    "plt.title('Demand distribution')\n",
    "plt.show()"
   ]
  },
  {
   "cell_type": "code",
   "execution_count": 14,
   "metadata": {},
   "outputs": [
    {
     "data": {
      "image/png": "[encoded data removed]",
      "text/plain": [
       "<Figure size 1000x600 with 1 Axes>"
      ]
     },
     "metadata": {},
     "output_type": "display_data"
    }
   ],
   "source": [
    "plt.figure(figsize=(10, 6))\n",
    "\n",
    "ax = sns.barplot(x=data['Class'].value_counts().index, \n",
    "                 y=data['Class'].value_counts().values)\n",
    "\n",
    "for i, v in enumerate(data['Class'].value_counts().values):\n",
    "    ax.text(i, v, str(v), ha='center', va='bottom')\n",
    "\n",
    "plt.title('Class distribution', fontsize=16, fontweight='bold')\n",
    "plt.xlabel('Class', fontsize=12)\n",
    "plt.ylabel('Quantity', fontsize=12)\n",
    "\n",
    "plt.xticks(rotation=0)\n",
    "\n",
    "plt.tight_layout()\n",
    "plt.show()"
   ]
  },
  {
   "cell_type": "markdown",
   "metadata": {},
   "source": [
    "We can see that we have an imbalanced data in the betha class, so we need to use a technique to resample the amount of data"
   ]
  },
  {
   "cell_type": "markdown",
   "metadata": {},
   "source": [
    "### Categorical variables coding with LabelEncoder"
   ]
  },
  {
   "cell_type": "code",
   "execution_count": 15,
   "metadata": {},
   "outputs": [
    {
     "data": {
      "text/html": [
       "<div>\n",
       "<style scoped>\n",
       "    .dataframe tbody tr th:only-of-type {\n",
       "        vertical-align: middle;\n",
       "    }\n",
       "\n",
       "    .dataframe tbody tr th {\n",
       "        vertical-align: top;\n",
       "    }\n",
       "\n",
       "    .dataframe thead th {\n",
       "        text-align: right;\n",
       "    }\n",
       "</style>\n",
       "<table border=\"1\" class=\"dataframe\">\n",
       "  <thead>\n",
       "    <tr style=\"text-align: right;\">\n",
       "      <th></th>\n",
       "      <th>Partner</th>\n",
       "      <th>Dependents</th>\n",
       "      <th>Service1</th>\n",
       "      <th>Service2</th>\n",
       "      <th>Security</th>\n",
       "      <th>OnlineBackup</th>\n",
       "      <th>DeviceProtection</th>\n",
       "      <th>TechSupport</th>\n",
       "      <th>Contract</th>\n",
       "      <th>PaperlessBilling</th>\n",
       "      <th>PaymentMethod</th>\n",
       "      <th>Charges</th>\n",
       "      <th>Demand</th>\n",
       "      <th>Class</th>\n",
       "    </tr>\n",
       "  </thead>\n",
       "  <tbody>\n",
       "    <tr>\n",
       "      <th>0</th>\n",
       "      <td>1</td>\n",
       "      <td>0</td>\n",
       "      <td>0</td>\n",
       "      <td>1</td>\n",
       "      <td>0</td>\n",
       "      <td>2</td>\n",
       "      <td>0</td>\n",
       "      <td>0</td>\n",
       "      <td>0</td>\n",
       "      <td>1</td>\n",
       "      <td>2</td>\n",
       "      <td>29.85</td>\n",
       "      <td>29.85</td>\n",
       "      <td>0</td>\n",
       "    </tr>\n",
       "    <tr>\n",
       "      <th>1</th>\n",
       "      <td>0</td>\n",
       "      <td>0</td>\n",
       "      <td>1</td>\n",
       "      <td>0</td>\n",
       "      <td>2</td>\n",
       "      <td>0</td>\n",
       "      <td>2</td>\n",
       "      <td>0</td>\n",
       "      <td>1</td>\n",
       "      <td>0</td>\n",
       "      <td>3</td>\n",
       "      <td>56.95</td>\n",
       "      <td>1889.50</td>\n",
       "      <td>0</td>\n",
       "    </tr>\n",
       "    <tr>\n",
       "      <th>2</th>\n",
       "      <td>0</td>\n",
       "      <td>0</td>\n",
       "      <td>1</td>\n",
       "      <td>0</td>\n",
       "      <td>2</td>\n",
       "      <td>2</td>\n",
       "      <td>0</td>\n",
       "      <td>0</td>\n",
       "      <td>0</td>\n",
       "      <td>1</td>\n",
       "      <td>3</td>\n",
       "      <td>53.85</td>\n",
       "      <td>108.15</td>\n",
       "      <td>1</td>\n",
       "    </tr>\n",
       "    <tr>\n",
       "      <th>3</th>\n",
       "      <td>0</td>\n",
       "      <td>0</td>\n",
       "      <td>0</td>\n",
       "      <td>1</td>\n",
       "      <td>2</td>\n",
       "      <td>0</td>\n",
       "      <td>2</td>\n",
       "      <td>2</td>\n",
       "      <td>1</td>\n",
       "      <td>0</td>\n",
       "      <td>0</td>\n",
       "      <td>42.30</td>\n",
       "      <td>1840.75</td>\n",
       "      <td>0</td>\n",
       "    </tr>\n",
       "    <tr>\n",
       "      <th>4</th>\n",
       "      <td>0</td>\n",
       "      <td>0</td>\n",
       "      <td>1</td>\n",
       "      <td>0</td>\n",
       "      <td>0</td>\n",
       "      <td>0</td>\n",
       "      <td>0</td>\n",
       "      <td>0</td>\n",
       "      <td>0</td>\n",
       "      <td>1</td>\n",
       "      <td>2</td>\n",
       "      <td>70.70</td>\n",
       "      <td>151.65</td>\n",
       "      <td>1</td>\n",
       "    </tr>\n",
       "  </tbody>\n",
       "</table>\n",
       "</div>"
      ],
      "text/plain": [
       "   Partner  Dependents  Service1  Service2  Security  OnlineBackup  \\\n",
       "0        1           0         0         1         0             2   \n",
       "1        0           0         1         0         2             0   \n",
       "2        0           0         1         0         2             2   \n",
       "3        0           0         0         1         2             0   \n",
       "4        0           0         1         0         0             0   \n",
       "\n",
       "   DeviceProtection  TechSupport  Contract  PaperlessBilling  PaymentMethod  \\\n",
       "0                 0            0         0                 1              2   \n",
       "1                 2            0         1                 0              3   \n",
       "2                 0            0         0                 1              3   \n",
       "3                 2            2         1                 0              0   \n",
       "4                 0            0         0                 1              2   \n",
       "\n",
       "   Charges   Demand  Class  \n",
       "0    29.85    29.85      0  \n",
       "1    56.95  1889.50      0  \n",
       "2    53.85   108.15      1  \n",
       "3    42.30  1840.75      0  \n",
       "4    70.70   151.65      1  "
      ]
     },
     "execution_count": 15,
     "metadata": {},
     "output_type": "execute_result"
    }
   ],
   "source": [
    "le = LabelEncoder()\n",
    "\n",
    "for var in cat_vars:\n",
    "    data[var] = le.fit_transform(data[var])\n",
    "\n",
    "data.head()"
   ]
  },
  {
   "cell_type": "markdown",
   "metadata": {},
   "source": [
    "### Numerical variables normalization using StandardScaler"
   ]
  },
  {
   "cell_type": "code",
   "execution_count": 16,
   "metadata": {},
   "outputs": [
    {
     "data": {
      "text/html": [
       "<div>\n",
       "<style scoped>\n",
       "    .dataframe tbody tr th:only-of-type {\n",
       "        vertical-align: middle;\n",
       "    }\n",
       "\n",
       "    .dataframe tbody tr th {\n",
       "        vertical-align: top;\n",
       "    }\n",
       "\n",
       "    .dataframe thead th {\n",
       "        text-align: right;\n",
       "    }\n",
       "</style>\n",
       "<table border=\"1\" class=\"dataframe\">\n",
       "  <thead>\n",
       "    <tr style=\"text-align: right;\">\n",
       "      <th></th>\n",
       "      <th>Charges</th>\n",
       "    </tr>\n",
       "  </thead>\n",
       "  <tbody>\n",
       "    <tr>\n",
       "      <th>0</th>\n",
       "      <td>-1.160323</td>\n",
       "    </tr>\n",
       "    <tr>\n",
       "      <th>1</th>\n",
       "      <td>-0.259629</td>\n",
       "    </tr>\n",
       "    <tr>\n",
       "      <th>2</th>\n",
       "      <td>-0.362660</td>\n",
       "    </tr>\n",
       "    <tr>\n",
       "      <th>3</th>\n",
       "      <td>-0.746535</td>\n",
       "    </tr>\n",
       "    <tr>\n",
       "      <th>4</th>\n",
       "      <td>0.197365</td>\n",
       "    </tr>\n",
       "  </tbody>\n",
       "</table>\n",
       "</div>"
      ],
      "text/plain": [
       "    Charges\n",
       "0 -1.160323\n",
       "1 -0.259629\n",
       "2 -0.362660\n",
       "3 -0.746535\n",
       "4  0.197365"
      ]
     },
     "execution_count": 16,
     "metadata": {},
     "output_type": "execute_result"
    }
   ],
   "source": [
    "scaler = StandardScaler()\n",
    "data[num_vars] = scaler.fit_transform(data[num_vars])\n",
    "\n",
    "data[num_vars].head()"
   ]
  },
  {
   "cell_type": "markdown",
   "metadata": {},
   "source": [
    "### Defining X and y variables (splitting y into y_demand and y_class)"
   ]
  },
  {
   "cell_type": "code",
   "execution_count": 17,
   "metadata": {},
   "outputs": [],
   "source": [
    "X = data.drop(['Demand', 'Class'], axis=1)\n",
    "\n",
    "y_demand = data[\"Demand\"]\n",
    "y_class = data['Class']"
   ]
  },
  {
   "cell_type": "markdown",
   "metadata": {},
   "source": [
    "### Balancing data with oversampling"
   ]
  },
  {
   "cell_type": "markdown",
   "metadata": {},
   "source": [
    "This oversampling will be perform in 2 phases based on the target variables:"
   ]
  },
  {
   "cell_type": "markdown",
   "metadata": {},
   "source": [
    "#### Discrete variable (Class)"
   ]
  },
  {
   "cell_type": "code",
   "execution_count": 18,
   "metadata": {},
   "outputs": [],
   "source": [
    "smote = SMOTE(random_state=42)\n",
    "X_balanced, y_balanced = smote.fit_resample(X, y_class)"
   ]
  },
  {
   "cell_type": "code",
   "execution_count": 19,
   "metadata": {},
   "outputs": [],
   "source": [
    "df_resampled = pd.DataFrame(X_balanced, columns=X.columns)\n",
    "df_resampled['Class'] = y_balanced"
   ]
  },
  {
   "cell_type": "code",
   "execution_count": 20,
   "metadata": {},
   "outputs": [
    {
     "name": "stdout",
     "output_type": "stream",
     "text": [
      "Original classes distribution: Class\n",
      "0    0.73463\n",
      "1    0.26537\n",
      "Name: proportion, dtype: float64\n",
      "Balanced classes distribution: Class\n",
      "0    0.5\n",
      "1    0.5\n",
      "Name: proportion, dtype: float64\n"
     ]
    }
   ],
   "source": [
    "print(\"Original classes distribution:\", y_class.value_counts(normalize=True))\n",
    "print(\"Balanced classes distribution:\", pd.Series(y_balanced).value_counts(normalize=True))"
   ]
  },
  {
   "cell_type": "code",
   "execution_count": 21,
   "metadata": {},
   "outputs": [],
   "source": [
    "df_resampled_full = df_resampled.merge(y_demand, left_index=True, right_index=True, how='left')"
   ]
  },
  {
   "cell_type": "markdown",
   "metadata": {},
   "source": [
    "#### Continuous variable (Demand)"
   ]
  },
  {
   "cell_type": "markdown",
   "metadata": {},
   "source": [
    "As we are dealing with a continuous variable, SMOTE won't work\n",
    "\n",
    "The use of k-Nearest Neighbors (KNN) imputation is a robust technique for dealing with missing values, as it leverages information from the most similar instances to estimate missing values.\n",
    "\n",
    "* Using contextual information: KNN imputation uses information from similar instances, which can provide more accurate estimates."
   ]
  },
  {
   "cell_type": "code",
   "execution_count": 22,
   "metadata": {},
   "outputs": [],
   "source": [
    "imputer = KNNImputer(n_neighbors=5)\n",
    "\n",
    "df_imputed_array = imputer.fit_transform(df_resampled_full)"
   ]
  },
  {
   "cell_type": "code",
   "execution_count": 23,
   "metadata": {},
   "outputs": [],
   "source": [
    "df_imputed = pd.DataFrame(df_imputed_array, columns=df_resampled_full.columns)\n",
    "\n",
    "df_final = df_imputed.sample(frac=1, random_state=42).reset_index(drop=True)"
   ]
  },
  {
   "cell_type": "markdown",
   "metadata": {},
   "source": [
    "* Data Balance: The combination of SMOTE and KNNImputer helps in maintaining balance in the discrete variable and handling missing values ​​in the continuous variable."
   ]
  },
  {
   "cell_type": "markdown",
   "metadata": {},
   "source": [
    "### Defining new X and Y variables after oversampling"
   ]
  },
  {
   "cell_type": "code",
   "execution_count": 24,
   "metadata": {},
   "outputs": [],
   "source": [
    "X_oversampled = df_final.drop(['Demand', 'Class'], axis=1)\n",
    "\n",
    "y_oversampled_class = df_final[\"Class\"]\n",
    "y_oversampled_demand = df_final[\"Demand\"]"
   ]
  },
  {
   "cell_type": "markdown",
   "metadata": {},
   "source": [
    "### PCA (Principal Components Analysis)"
   ]
  },
  {
   "cell_type": "markdown",
   "metadata": {},
   "source": [
    "Dimensionality reduction technique used to reduce the number of variables in a data set, while retaining as much variability as possible"
   ]
  },
  {
   "cell_type": "code",
   "execution_count": 25,
   "metadata": {},
   "outputs": [
    {
     "name": "stdout",
     "output_type": "stream",
     "text": [
      "X original shape: (10348, 12) \n",
      "X after PCA: (10348, 10)\n",
      "\n",
      "Number of components: 10 \n",
      "Variance: [0.24199503 0.19457693 0.11729002 0.09069218 0.08651975 0.07171588\n",
      " 0.06862252 0.04482778 0.03276081 0.02623359]\n"
     ]
    }
   ],
   "source": [
    "pca = PCA(n_components=0.95) \n",
    "X_pca = pca.fit_transform(X_oversampled)\n",
    "\n",
    "print(f\"X original shape: {X_oversampled.shape} \\nX after PCA: {X_pca.shape}\\n\")\n",
    "print(f\"Number of components: {pca.n_components_} \\nVariance: {pca.explained_variance_ratio_}\")"
   ]
  },
  {
   "cell_type": "markdown",
   "metadata": {},
   "source": [
    "Variance indicates what proportion of the total variance is captured by each principal component. This helps decide how many main components to retain."
   ]
  },
  {
   "cell_type": "markdown",
   "metadata": {},
   "source": [
    "## Model selection"
   ]
  },
  {
   "cell_type": "markdown",
   "metadata": {},
   "source": [
    "### Splitting PCA components in train/test sets for demand and class"
   ]
  },
  {
   "cell_type": "code",
   "execution_count": 26,
   "metadata": {},
   "outputs": [
    {
     "name": "stdout",
     "output_type": "stream",
     "text": [
      "Tamaño del conjunto de entrenamiento: (8278, 10)\n",
      "Tamaño del conjunto de prueba: (2070, 10)\n"
     ]
    }
   ],
   "source": [
    "X_train_pca, X_test_pca, y_demand_train, y_demand_test, y_class_train, y_class_test = train_test_split(\n",
    "    X_pca, y_oversampled_demand, y_oversampled_class, test_size=0.2, random_state=42\n",
    ")\n",
    "\n",
    "print(\"Tamaño del conjunto de entrenamiento:\", X_train_pca.shape)\n",
    "print(\"Tamaño del conjunto de prueba:\", X_test_pca.shape)"
   ]
  },
  {
   "cell_type": "markdown",
   "metadata": {},
   "source": [
    "### Models for classification and regression"
   ]
  },
  {
   "cell_type": "markdown",
   "metadata": {},
   "source": [
    "Classification\n",
    "* Random Forest\n",
    "* SVM\n",
    "* XGBoost\n",
    "\n",
    "Regression\n",
    "* Random Forest\n",
    "* SVR\n",
    "* XGBoost"
   ]
  },
  {
   "cell_type": "code",
   "execution_count": 27,
   "metadata": {},
   "outputs": [],
   "source": [
    "classifiers = {\n",
    "    'Random Forest': RandomForestClassifier(random_state=42),\n",
    "    'SVM': SVC(random_state=42),\n",
    "    'XGBoost': XGBClassifier(random_state=42)\n",
    "}\n",
    "\n",
    "regressors = {\n",
    "    'Random Forest': RandomForestRegressor(random_state=42),\n",
    "    'SVR': SVR(),\n",
    "    'XGBoost': XGBRegressor(random_state=42)\n",
    "}"
   ]
  },
  {
   "cell_type": "markdown",
   "metadata": {},
   "source": [
    "### Evaluating models' performance using metrics"
   ]
  },
  {
   "cell_type": "markdown",
   "metadata": {},
   "source": [
    "#### Classification"
   ]
  },
  {
   "cell_type": "markdown",
   "metadata": {},
   "source": [
    "* Accuracy: Measures the proportion of correct predictions (both positive and negative) among the total number of cases examined. \"What percentage of predictions are correct?\"\n",
    "\n",
    "* F1-score: It is the harmonic mean of precision and recall.\n",
    "Provides a balance between precision (how many of the instances classified as positive are actually positive) and recall (how many of the truly positive instances were classified correctly)\n",
    "\n",
    "* Confussion matrix: Is ​​a table that shows the classification frequencies for each class in the model. For a binary classification problem, the confusion matrix is ​​a 2x2 table"
   ]
  },
  {
   "cell_type": "markdown",
   "metadata": {},
   "source": [
    "|  | Predicted Negative | Predicted Positive |\n",
    "| ------ | ------ | ------ |\n",
    "| True Negative | True Negative (TN) | False Positive (FP) |\n",
    "| True Positive | False Negative (FN) | True Positive (TP) |\n",
    "\n",
    "* True Negative (TN): The model correctly predicted the negative class.\n",
    "* True Positive (TP): The model correctly predicted the positive class.\n",
    "\n",
    "* False Positive (FP): The model incorrectly predicted the positive class.\n",
    "* False Negative (FN): The model incorrectly predicted the negative class."
   ]
  },
  {
   "cell_type": "code",
   "execution_count": 28,
   "metadata": {},
   "outputs": [
    {
     "name": "stdout",
     "output_type": "stream",
     "text": [
      "Random Forest - Accuracy: 0.7802, F1-score: 0.7802\n"
     ]
    },
    {
     "data": {
      "image/png": "[encoded data removed]",
      "text/plain": [
       "<Figure size 1000x700 with 2 Axes>"
      ]
     },
     "metadata": {},
     "output_type": "display_data"
    },
    {
     "name": "stdout",
     "output_type": "stream",
     "text": [
      "SVM - Accuracy: 0.7758, F1-score: 0.7748\n"
     ]
    },
    {
     "data": {
      "image/png": "[encoded data removed]",
      "text/plain": [
       "<Figure size 1000x700 with 2 Axes>"
      ]
     },
     "metadata": {},
     "output_type": "display_data"
    },
    {
     "name": "stdout",
     "output_type": "stream",
     "text": [
      "XGBoost - Accuracy: 0.7995, F1-score: 0.7992\n"
     ]
    },
    {
     "data": {
      "image/png": "[encoded data removed]",
      "text/plain": [
       "<Figure size 1000x700 with 2 Axes>"
      ]
     },
     "metadata": {},
     "output_type": "display_data"
    }
   ],
   "source": [
    "for name, clf in classifiers.items():\n",
    "    clf.fit(X_train_pca, y_class_train)\n",
    "    y_pred_class = clf.predict(X_test_pca)\n",
    "\n",
    "    print(f\"{name} - Accuracy: {accuracy_score(y_class_test, y_pred_class):.4f}, F1-score: {f1_score(y_class_test, y_pred_class, average='weighted'):.4f}\")\n",
    "\n",
    "    cm = confusion_matrix(y_class_test, y_pred_class)\n",
    "    plt.figure(figsize=(10,7))\n",
    "    sns.heatmap(cm, annot=True, fmt='d', cmap='Blues')\n",
    "    plt.title(f'Confussion matrix {name}')\n",
    "    plt.ylabel('Real')\n",
    "    plt.xlabel('Predicted')\n",
    "    plt.show()"
   ]
  },
  {
   "cell_type": "markdown",
   "metadata": {},
   "source": [
    "The model with the highest accuracy is XGBoost"
   ]
  },
  {
   "cell_type": "markdown",
   "metadata": {},
   "source": [
    "#### Regression"
   ]
  },
  {
   "cell_type": "markdown",
   "metadata": {},
   "source": [
    "* Mean Squared Error (MSE): It measures the mean squared errors, that is, the average squared difference between the estimated values ​​and the actual values.\n",
    "\n",
    "* R-squared (R2): Also known as coefficient of determination.\n",
    "It provides a measure of how well predictions fit actual data.\n",
    "It varies between 0 and 1, where 1 indicates a perfect fit and 0 indicates that the model does not explain any variability in the data.\n",
    "\n",
    "* Mean Absolute Error (MAE): Measures the average of the absolute differences between predictions and actual values."
   ]
  },
  {
   "cell_type": "code",
   "execution_count": 29,
   "metadata": {},
   "outputs": [
    {
     "name": "stdout",
     "output_type": "stream",
     "text": [
      "Random Forest \n",
      "Mean Square Error (MSE): 863012.5041 \n",
      "R-squared (R2): 0.8012 \n",
      "Mean Absolute Error (MAE): 605.1431\n",
      "\n",
      "SVR \n",
      "Mean Square Error (MSE): 3764268.7271 \n",
      "R-squared (R2): 0.1328 \n",
      "Mean Absolute Error (MAE): 1297.9182\n",
      "\n",
      "XGBoost \n",
      "Mean Square Error (MSE): 854620.5871 \n",
      "R-squared (R2): 0.8031 \n",
      "Mean Absolute Error (MAE): 594.3049\n",
      "\n"
     ]
    }
   ],
   "source": [
    "for name, reg in regressors.items():\n",
    "    reg.fit(X_train_pca, y_demand_train)\n",
    "    y_pred_demand = reg.predict(X_test_pca)\n",
    "    print(f\"{name} \\nMean Square Error (MSE): {mean_squared_error(y_demand_test, y_pred_demand):.4f} \\nR-squared (R2): {r2_score(y_demand_test, y_pred_demand):.4f} \\nMean Absolute Error (MAE): {mean_absolute_error(y_demand_test, y_pred_demand):.4f}\\n\")"
   ]
  },
  {
   "cell_type": "markdown",
   "metadata": {},
   "source": [
    "### Cross validation"
   ]
  },
  {
   "cell_type": "markdown",
   "metadata": {},
   "source": [
    "Evaluate model performance more robustly."
   ]
  },
  {
   "cell_type": "code",
   "execution_count": 30,
   "metadata": {},
   "outputs": [
    {
     "name": "stdout",
     "output_type": "stream",
     "text": [
      "Cross Validation Accuracy for classification: 0.7998 (+/- 0.0241)\n"
     ]
    }
   ],
   "source": [
    "best_clf = classifiers['XGBoost']\n",
    "cv_scores = cross_val_score(best_clf, X_pca, y_oversampled_class, cv=5, scoring='accuracy')\n",
    "print(f\"Cross Validation Accuracy for classification: {cv_scores.mean():.4f} (+/- {cv_scores.std() * 2:.4f})\")\n"
   ]
  },
  {
   "cell_type": "code",
   "execution_count": 31,
   "metadata": {},
   "outputs": [
    {
     "name": "stdout",
     "output_type": "stream",
     "text": [
      "Cross Validation MSE for regression: -0.7974 (+/- 0.0148)\n"
     ]
    }
   ],
   "source": [
    "best_reg = regressors['XGBoost']\n",
    "cv_scores = cross_val_score(best_reg, X_pca, y_oversampled_demand, cv=5, scoring='r2')\n",
    "print(f\"Cross Validation MSE for regression: {-cv_scores.mean():.4f} (+/- {cv_scores.std() * 2:.4f})\")"
   ]
  },
  {
   "cell_type": "markdown",
   "metadata": {},
   "source": [
    "### Hiperparameter tuning"
   ]
  },
  {
   "cell_type": "markdown",
   "metadata": {},
   "source": [
    "Optimize the hyperparameters of your models using techniques like RandomizedSearchCV."
   ]
  },
  {
   "cell_type": "code",
   "execution_count": 32,
   "metadata": {},
   "outputs": [
    {
     "name": "stdout",
     "output_type": "stream",
     "text": [
      "Best parameters for classification: {'subsample': 0.8, 'n_estimators': 100, 'min_child_weight': 1, 'max_depth': 10, 'learning_rate': 0.1, 'colsample_bytree': 0.5}\n",
      "Best accuracy: 0.8037319716168982\n"
     ]
    }
   ],
   "source": [
    "param_grid_clf = {\n",
    "    'n_estimators': [100, 200, 300, 400, 500],\n",
    "    'max_depth': [3, 5, 6, 7, 10],\n",
    "    'learning_rate': [0.01, 0.05, 0.1, 0.2, 0.5],\n",
    "    'min_child_weight': [1, 3, 5],\n",
    "    'subsample': [0.5, 0.7, 0.8, 0.9, 1.0],\n",
    "    'colsample_bytree': [0.5, 0.6, 0.7, 1.0]\n",
    "}\n",
    "\n",
    "grid_search_clf = RandomizedSearchCV(XGBClassifier(random_state=42), param_grid_clf, n_iter=100, cv=5, scoring='accuracy', n_jobs=-1)\n",
    "grid_search_clf.fit(X_pca, y_oversampled_class)\n",
    "\n",
    "print(\"Best parameters for classification:\", grid_search_clf.best_params_)\n",
    "print(\"Best accuracy:\", grid_search_clf.best_score_)"
   ]
  },
  {
   "cell_type": "code",
   "execution_count": 33,
   "metadata": {},
   "outputs": [
    {
     "name": "stdout",
     "output_type": "stream",
     "text": [
      "Best parameters for regression: {'subsample': 0.5, 'n_estimators': 200, 'max_depth': 6, 'learning_rate': 0.05, 'gamma': 0.3, 'colsample_bytree': 0.6}\n",
      "Best R2 score: 0.8171283216105476\n"
     ]
    }
   ],
   "source": [
    "param_grid_reg = {\n",
    "    'n_estimators': [100, 200, 300, 400, 500],\n",
    "    'max_depth': [3, 5, 6, 7, 10],\n",
    "    'learning_rate': [0.01, 0.05, 0.1, 0.2, 0.5],\n",
    "    'gamma': [0, 0.1, 0.2, 0.3],\n",
    "    'subsample': [0.5, 0.7, 0.8, 0.9, 1.0],\n",
    "    'colsample_bytree': [0.5, 0.6, 0.7, 1.0]\n",
    "}\n",
    "\n",
    "grid_search_reg = RandomizedSearchCV(XGBRegressor(), param_grid_reg, n_iter=40, cv=5, scoring='r2', n_jobs=-1, random_state=42)\n",
    "grid_search_reg.fit(X_pca, y_oversampled_demand)\n",
    "\n",
    "print(\"Best parameters for regression:\", grid_search_reg.best_params_)\n",
    "print(\"Best R2 score:\", grid_search_reg.best_score_)"
   ]
  },
  {
   "cell_type": "markdown",
   "metadata": {},
   "source": [
    "### Model evaluation"
   ]
  },
  {
   "cell_type": "code",
   "execution_count": 34,
   "metadata": {},
   "outputs": [
    {
     "name": "stdout",
     "output_type": "stream",
     "text": [
      "Classification - Accuracy: 0.9227053140096618\n",
      "Classification - F1-score: 0.92253447206727\n",
      "Regression - MSE: 488770.254449611\n",
      "Regression - R2: 0.8874028681875636\n"
     ]
    }
   ],
   "source": [
    "best_clf = grid_search_clf.best_estimator_\n",
    "y_pred_class_final = best_clf.predict(X_test_pca)\n",
    "print(\"Classification - Accuracy:\", accuracy_score(y_class_test, y_pred_class_final))\n",
    "print(\"Classification - F1-score:\", f1_score(y_class_test, y_pred_class_final, average='weighted'))\n",
    "\n",
    "\n",
    "best_reg = grid_search_reg.best_estimator_\n",
    "y_pred_demand_final = best_reg.predict(X_test_pca)\n",
    "print(\"Regression - MSE:\", mean_squared_error(y_demand_test, y_pred_demand_final))\n",
    "print(\"Regression - R2:\", r2_score(y_demand_test, y_pred_demand_final))"
   ]
  },
  {
   "cell_type": "markdown",
   "metadata": {},
   "source": [
    "### Save models. PCA and scaler in folder"
   ]
  },
  {
   "cell_type": "code",
   "execution_count": 35,
   "metadata": {},
   "outputs": [
    {
     "data": {
      "text/plain": [
       "['../models/standard_scaler.joblib']"
      ]
     },
     "execution_count": 35,
     "metadata": {},
     "output_type": "execute_result"
    }
   ],
   "source": [
    "from joblib import dump\n",
    "\n",
    "dump(best_clf, '../models/xgb_classifier.joblib')\n",
    "dump(best_reg, '../models/xgb_regressor.joblib')\n",
    "\n",
    "dump(pca, '../models/pca_transformer.joblib')\n",
    "dump(scaler, '../models/standard_scaler.joblib')\n"
   ]
  },
  {
   "cell_type": "code",
   "execution_count": null,
   "metadata": {},
   "outputs": [],
   "source": []
  }
 ],
 "metadata": {
  "kernelspec": {
   "display_name": ".venv",
   "language": "python",
   "name": "python3"
  },
  "language_info": {
   "codemirror_mode": {
    "name": "ipython",
    "version": 3
   },
   "file_extension": ".py",
   "mimetype": "text/x-python",
   "name": "python",
   "nbconvert_exporter": "python",
   "pygments_lexer": "ipython3",
   "version": "3.12.3"
  }
 },
 "nbformat": 4,
 "nbformat_minor": 2
}
